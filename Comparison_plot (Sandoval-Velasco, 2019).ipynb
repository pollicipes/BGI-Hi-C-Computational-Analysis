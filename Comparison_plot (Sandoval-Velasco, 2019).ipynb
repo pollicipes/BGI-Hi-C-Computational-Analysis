{
 "cells": [
  {
   "cell_type": "markdown",
   "metadata": {
    "toc": true
   },
   "source": [
    "<h1>Table of Contents<span class=\"tocSkip\"></span></h1>\n",
    "<div class=\"toc\"><ul class=\"toc-item\"><li><span><a href=\"#Figure-1:-Comparing-BGI-obtained-values-for-3-samples-against-statistics-for-a-set-of-Illumina-samples-(n=320)\" data-toc-modified-id=\"Figure-1:-Comparing-BGI-obtained-values-for-3-samples-against-statistics-for-a-set-of-Illumina-samples-(n=320)-1\"><span class=\"toc-item-num\">1&nbsp;&nbsp;</span>Figure 1: Comparing BGI obtained values for 3 samples against statistics for a set of Illumina samples (n=320)</a></span><ul class=\"toc-item\"><li><span><a href=\"#Formatting-the-data-from-the-4D-genome-unit:\" data-toc-modified-id=\"Formatting-the-data-from-the-4D-genome-unit:-1.1\"><span class=\"toc-item-num\">1.1&nbsp;&nbsp;</span>Formatting the data from the 4D genome unit:</a></span></li><li><span><a href=\"#Read-the-data-from-the-4D-genome-unit.\" data-toc-modified-id=\"Read-the-data-from-the-4D-genome-unit.-1.2\"><span class=\"toc-item-num\">1.2&nbsp;&nbsp;</span>Read the data from the 4D genome unit.</a></span><ul class=\"toc-item\"><li><span><a href=\"#Placing-the-sample-values-on-the-graph\" data-toc-modified-id=\"Placing-the-sample-values-on-the-graph-1.2.1\"><span class=\"toc-item-num\">1.2.1&nbsp;&nbsp;</span>Placing the sample values on the graph</a></span></li></ul></li><li><span><a href=\"#Saving-tabular-data-for-Figure-1\" data-toc-modified-id=\"Saving-tabular-data-for-Figure-1-1.3\"><span class=\"toc-item-num\">1.3&nbsp;&nbsp;</span>Saving tabular data for Figure 1</a></span></li></ul></li></ul></div>"
   ]
  },
  {
   "cell_type": "markdown",
   "metadata": {},
   "source": [
    "---"
   ]
  },
  {
   "cell_type": "markdown",
   "metadata": {},
   "source": [
    "## Figure 1: Comparing BGI obtained values for 3 samples against statistics for a set of Illumina samples (n=320) "
   ]
  },
  {
   "cell_type": "markdown",
   "metadata": {},
   "source": [
    "### Formatting the data from the 4D genome unit:\n",
    "\n",
    "This raw data is private and cannot be published yet. We used it with permission from the 4D Genome unit. \n",
    "\n",
    "For any inquiries email to: `martirenom [at] cnag [dot] crg [dot] eu`"
   ]
  },
  {
   "cell_type": "markdown",
   "metadata": {},
   "source": [
    "Removing those that were not classified as INHIC (insitu HiC), and also those that had 0 reads mapped (most of them were tests & prototypes)"
   ]
  },
  {
   "cell_type": "markdown",
   "metadata": {},
   "source": [
    "NOTE: **TO DO IN BASH!**"
   ]
  },
  {
   "cell_type": "code",
   "execution_count": null,
   "metadata": {
    "collapsed": true
   },
   "outputs": [],
   "source": [
    "cd /home/jrodriguez/scratch/ancient_assembly_hic/paper_test_folder\n",
    "\n",
    "# check column names\n",
    "head -n1 hic_juanro_dataset.tsv | sed 's/\\t/\\n/g' | cat -n\n",
    "\n",
    "# Removing those that are not insitu hic, have 0 valid pairs or are test samples\n",
    "cat \n",
    "<(head -n1 hic_juanro_dataset.tsv | awk -F'\\t' -v OFS=$'\\t' '{print $1,$45,$46,$47,$48,$67,$69,$70,$71,$72,$73,$74,$75,$76,$77,$78,$79,$98,$99}' ) \\\n",
    "<(awk -F'\\t' -v OFS=$'\\t' '$3 == \"INHIC\" && $99 != 0 && $1 != \"TE_S_T\"' hic_juanro_dataset.tsv \\| \n",
    "  awk -F'\\t' -v OFS=$'\\t' '{print $1,$45,$46,$47,$48,$67,$69,$70,$71,$72,$73,$74,$75,$76,$77,$78,$79,$98,$99}') > hic_juanro_dataset_f1.tsv\n",
    "\n",
    "wc -l hic_juanro_dataset_f1.tsv"
   ]
  },
  {
   "cell_type": "markdown",
   "metadata": {},
   "source": [
    "**Now run the analysis in R:**"
   ]
  },
  {
   "cell_type": "code",
   "execution_count": 1,
   "metadata": {
    "collapsed": false
   },
   "outputs": [
    {
     "name": "stderr",
     "output_type": "stream",
     "text": [
      "\n",
      "Attaching package: ‘dplyr’\n",
      "\n",
      "\n",
      "The following objects are masked from ‘package:stats’:\n",
      "\n",
      "    filter, lag\n",
      "\n",
      "\n",
      "The following objects are masked from ‘package:base’:\n",
      "\n",
      "    intersect, setdiff, setequal, union\n",
      "\n",
      "\n",
      "\n",
      "Attaching package: ‘reshape2’\n",
      "\n",
      "\n",
      "The following object is masked from ‘package:tidyr’:\n",
      "\n",
      "    smiths\n",
      "\n",
      "\n"
     ]
    }
   ],
   "source": [
    "library(ggplot2)\n",
    "library(dplyr)\n",
    "library(tidyr)\n",
    "library(reshape2)\n",
    "library(scales)"
   ]
  },
  {
   "cell_type": "markdown",
   "metadata": {},
   "source": [
    "### Read the data from the 4D genome unit. "
   ]
  },
  {
   "cell_type": "code",
   "execution_count": 2,
   "metadata": {
    "collapsed": true
   },
   "outputs": [],
   "source": [
    "a=read.table(\"/home/jrodriguez/scratch/ancient_assembly_hic/paper_test_folder/hic_juanro_dataset_f1.tsv\",\n",
    "             header=TRUE,\n",
    "             stringsAsFactors = FALSE)"
   ]
  },
  {
   "cell_type": "code",
   "execution_count": 3,
   "metadata": {
    "collapsed": false
   },
   "outputs": [
    {
     "data": {
      "text/html": [
       "<style>\n",
       ".list-inline {list-style: none; margin:0; padding: 0}\n",
       ".list-inline>li {display: inline-block}\n",
       ".list-inline>li:not(:last-child)::after {content: \"\\00b7\"; padding: 0 .5ex}\n",
       "</style>\n",
       "<ol class=list-inline><li>320</li><li>19</li></ol>\n"
      ],
      "text/latex": [
       "\\begin{enumerate*}\n",
       "\\item 320\n",
       "\\item 19\n",
       "\\end{enumerate*}\n"
      ],
      "text/markdown": [
       "1. 320\n",
       "2. 19\n",
       "\n",
       "\n"
      ],
      "text/plain": [
       "[1] 320  19"
      ]
     },
     "metadata": {},
     "output_type": "display_data"
    }
   ],
   "source": [
    "#summary(a)\n",
    "dim(a)"
   ]
  },
  {
   "cell_type": "code",
   "execution_count": 4,
   "metadata": {
    "collapsed": false
   },
   "outputs": [
    {
     "data": {
      "text/html": [
       "<table>\n",
       "<caption>A data.frame: 6 × 10</caption>\n",
       "<thead>\n",
       "\t<tr><th></th><th scope=col>EXCLUDED_SELF_CIRCLE</th><th scope=col>EXCLUDED_DANGLING_END</th><th scope=col>EXCLUDED_ERROR</th><th scope=col>EXCLUDED_EXTRA_DANGLING_END</th><th scope=col>EXCLUDED_TOO_CLOSE_FROM_RES</th><th scope=col>EXCLUDED_TOO_SHORT</th><th scope=col>EXCLUDED_TOO_LARGE</th><th scope=col>EXCLUDED_OVER_REPRESENTED</th><th scope=col>EXCLUDED_DUPLICATED</th><th scope=col>EXCLUDED_RANDOM_BREAKS</th></tr>\n",
       "\t<tr><th></th><th scope=col>&lt;chr&gt;</th><th scope=col>&lt;chr&gt;</th><th scope=col>&lt;chr&gt;</th><th scope=col>&lt;chr&gt;</th><th scope=col>&lt;chr&gt;</th><th scope=col>&lt;chr&gt;</th><th scope=col>&lt;chr&gt;</th><th scope=col>&lt;chr&gt;</th><th scope=col>&lt;chr&gt;</th><th scope=col>&lt;chr&gt;</th></tr>\n",
       "</thead>\n",
       "<tbody>\n",
       "\t<tr><th scope=row>1</th><td>180727;0.0008181000356266231</td><td>13964364;0.06321272795931505 </td><td>86353;0.00039089561812272536</td><td>34461646;0.15599812878182048</td><td>71165405;0.32214566924633875</td><td>13074145;0.05918295822034138</td><td>27994;0.0001267209238095674 </td><td>9420193;0.04264255052598486 </td><td>8891413;0.04024891295750507 </td><td>123792;0.0005603713867340847</td></tr>\n",
       "\t<tr><th scope=row>2</th><td>176738;0.0008162783164235938</td><td>17665621;0.08159005628929424 </td><td>33312;0.00015385408501116204</td><td>38540540;0.17800250713064636</td><td>55525632;0.2564494868523805 </td><td>10077260;0.04654261577568392</td><td>34522;0.00015944256492421159</td><td>11475967;0.05300265377051183</td><td>15688726;0.07245961166308923</td><td>158380;0.0007314904534122191</td></tr>\n",
       "\t<tr><th scope=row>3</th><td>110767;0.0007128736641671585</td><td>12852246;0.08271441583502041 </td><td>718378;0.004623333277213204 </td><td>39532601;0.25442370136347714</td><td>72535121;0.4668211424709363 </td><td>11660154;0.07504235653880081</td><td>24329;0.0001565764476380402 </td><td>9008993;0.05798002880249787 </td><td>18836436;0.12122743372277099</td><td>145135;0.0009340590541307478</td></tr>\n",
       "\t<tr><th scope=row>4</th><td>294303;0.0013325714223721011</td><td>12517567;0.056678158434769865</td><td>231953;0.0010502575207642327</td><td>46079136;0.20864122962116421</td><td>74787736;0.338630594107125  </td><td>11548820;0.05229177920075354</td><td>49365;0.00022351925826579673</td><td>13857740;0.06274631350228425</td><td>36123427;0.1635628807669129 </td><td>265574;0.0012024896889431926</td></tr>\n",
       "\t<tr><th scope=row>5</th><td>176931;0.0008646272499276631</td><td>27806915;0.13588696410138576 </td><td>1399862;0.006840852260701846</td><td>43149998;0.21086561487316616</td><td>84818738;0.41449261112679503</td><td>12416541;0.06067721144651913</td><td>44783;0.00021884577679157714</td><td>10745709;0.05251218170469244</td><td>54506386;0.2663620656113156 </td><td>1193757;0.005833657369211146</td></tr>\n",
       "\t<tr><th scope=row>6</th><td>119490;0.0007923299385199313</td><td>29990011;0.1988616919561642  </td><td>544565;0.0036109729096167574</td><td>39737860;0.2634990055294471 </td><td>61974834;0.4109508445309477 </td><td>9770407;0.06478689411352169 </td><td>35375;0.00023456918215032695</td><td>8266866;0.054817017570780065</td><td>32920930;0.21829641344814596</td><td>845282;0.00560500657035739  </td></tr>\n",
       "</tbody>\n",
       "</table>\n"
      ],
      "text/latex": [
       "A data.frame: 6 × 10\n",
       "\\begin{tabular}{r|llllllllll}\n",
       "  & EXCLUDED\\_SELF\\_CIRCLE & EXCLUDED\\_DANGLING\\_END & EXCLUDED\\_ERROR & EXCLUDED\\_EXTRA\\_DANGLING\\_END & EXCLUDED\\_TOO\\_CLOSE\\_FROM\\_RES & EXCLUDED\\_TOO\\_SHORT & EXCLUDED\\_TOO\\_LARGE & EXCLUDED\\_OVER\\_REPRESENTED & EXCLUDED\\_DUPLICATED & EXCLUDED\\_RANDOM\\_BREAKS\\\\\n",
       "  & <chr> & <chr> & <chr> & <chr> & <chr> & <chr> & <chr> & <chr> & <chr> & <chr>\\\\\n",
       "\\hline\n",
       "\t1 & 180727;0.0008181000356266231 & 13964364;0.06321272795931505  & 86353;0.00039089561812272536 & 34461646;0.15599812878182048 & 71165405;0.32214566924633875 & 13074145;0.05918295822034138 & 27994;0.0001267209238095674  & 9420193;0.04264255052598486  & 8891413;0.04024891295750507  & 123792;0.0005603713867340847\\\\\n",
       "\t2 & 176738;0.0008162783164235938 & 17665621;0.08159005628929424  & 33312;0.00015385408501116204 & 38540540;0.17800250713064636 & 55525632;0.2564494868523805  & 10077260;0.04654261577568392 & 34522;0.00015944256492421159 & 11475967;0.05300265377051183 & 15688726;0.07245961166308923 & 158380;0.0007314904534122191\\\\\n",
       "\t3 & 110767;0.0007128736641671585 & 12852246;0.08271441583502041  & 718378;0.004623333277213204  & 39532601;0.25442370136347714 & 72535121;0.4668211424709363  & 11660154;0.07504235653880081 & 24329;0.0001565764476380402  & 9008993;0.05798002880249787  & 18836436;0.12122743372277099 & 145135;0.0009340590541307478\\\\\n",
       "\t4 & 294303;0.0013325714223721011 & 12517567;0.056678158434769865 & 231953;0.0010502575207642327 & 46079136;0.20864122962116421 & 74787736;0.338630594107125   & 11548820;0.05229177920075354 & 49365;0.00022351925826579673 & 13857740;0.06274631350228425 & 36123427;0.1635628807669129  & 265574;0.0012024896889431926\\\\\n",
       "\t5 & 176931;0.0008646272499276631 & 27806915;0.13588696410138576  & 1399862;0.006840852260701846 & 43149998;0.21086561487316616 & 84818738;0.41449261112679503 & 12416541;0.06067721144651913 & 44783;0.00021884577679157714 & 10745709;0.05251218170469244 & 54506386;0.2663620656113156  & 1193757;0.005833657369211146\\\\\n",
       "\t6 & 119490;0.0007923299385199313 & 29990011;0.1988616919561642   & 544565;0.0036109729096167574 & 39737860;0.2634990055294471  & 61974834;0.4109508445309477  & 9770407;0.06478689411352169  & 35375;0.00023456918215032695 & 8266866;0.054817017570780065 & 32920930;0.21829641344814596 & 845282;0.00560500657035739  \\\\\n",
       "\\end{tabular}\n"
      ],
      "text/markdown": [
       "\n",
       "A data.frame: 6 × 10\n",
       "\n",
       "| <!--/--> | EXCLUDED_SELF_CIRCLE &lt;chr&gt; | EXCLUDED_DANGLING_END &lt;chr&gt; | EXCLUDED_ERROR &lt;chr&gt; | EXCLUDED_EXTRA_DANGLING_END &lt;chr&gt; | EXCLUDED_TOO_CLOSE_FROM_RES &lt;chr&gt; | EXCLUDED_TOO_SHORT &lt;chr&gt; | EXCLUDED_TOO_LARGE &lt;chr&gt; | EXCLUDED_OVER_REPRESENTED &lt;chr&gt; | EXCLUDED_DUPLICATED &lt;chr&gt; | EXCLUDED_RANDOM_BREAKS &lt;chr&gt; |\n",
       "|---|---|---|---|---|---|---|---|---|---|---|\n",
       "| 1 | 180727;0.0008181000356266231 | 13964364;0.06321272795931505  | 86353;0.00039089561812272536 | 34461646;0.15599812878182048 | 71165405;0.32214566924633875 | 13074145;0.05918295822034138 | 27994;0.0001267209238095674  | 9420193;0.04264255052598486  | 8891413;0.04024891295750507  | 123792;0.0005603713867340847 |\n",
       "| 2 | 176738;0.0008162783164235938 | 17665621;0.08159005628929424  | 33312;0.00015385408501116204 | 38540540;0.17800250713064636 | 55525632;0.2564494868523805  | 10077260;0.04654261577568392 | 34522;0.00015944256492421159 | 11475967;0.05300265377051183 | 15688726;0.07245961166308923 | 158380;0.0007314904534122191 |\n",
       "| 3 | 110767;0.0007128736641671585 | 12852246;0.08271441583502041  | 718378;0.004623333277213204  | 39532601;0.25442370136347714 | 72535121;0.4668211424709363  | 11660154;0.07504235653880081 | 24329;0.0001565764476380402  | 9008993;0.05798002880249787  | 18836436;0.12122743372277099 | 145135;0.0009340590541307478 |\n",
       "| 4 | 294303;0.0013325714223721011 | 12517567;0.056678158434769865 | 231953;0.0010502575207642327 | 46079136;0.20864122962116421 | 74787736;0.338630594107125   | 11548820;0.05229177920075354 | 49365;0.00022351925826579673 | 13857740;0.06274631350228425 | 36123427;0.1635628807669129  | 265574;0.0012024896889431926 |\n",
       "| 5 | 176931;0.0008646272499276631 | 27806915;0.13588696410138576  | 1399862;0.006840852260701846 | 43149998;0.21086561487316616 | 84818738;0.41449261112679503 | 12416541;0.06067721144651913 | 44783;0.00021884577679157714 | 10745709;0.05251218170469244 | 54506386;0.2663620656113156  | 1193757;0.005833657369211146 |\n",
       "| 6 | 119490;0.0007923299385199313 | 29990011;0.1988616919561642   | 544565;0.0036109729096167574 | 39737860;0.2634990055294471  | 61974834;0.4109508445309477  | 9770407;0.06478689411352169  | 35375;0.00023456918215032695 | 8266866;0.054817017570780065 | 32920930;0.21829641344814596 | 845282;0.00560500657035739   |\n",
       "\n"
      ],
      "text/plain": [
       "  EXCLUDED_SELF_CIRCLE         EXCLUDED_DANGLING_END        \n",
       "1 180727;0.0008181000356266231 13964364;0.06321272795931505 \n",
       "2 176738;0.0008162783164235938 17665621;0.08159005628929424 \n",
       "3 110767;0.0007128736641671585 12852246;0.08271441583502041 \n",
       "4 294303;0.0013325714223721011 12517567;0.056678158434769865\n",
       "5 176931;0.0008646272499276631 27806915;0.13588696410138576 \n",
       "6 119490;0.0007923299385199313 29990011;0.1988616919561642  \n",
       "  EXCLUDED_ERROR               EXCLUDED_EXTRA_DANGLING_END \n",
       "1 86353;0.00039089561812272536 34461646;0.15599812878182048\n",
       "2 33312;0.00015385408501116204 38540540;0.17800250713064636\n",
       "3 718378;0.004623333277213204  39532601;0.25442370136347714\n",
       "4 231953;0.0010502575207642327 46079136;0.20864122962116421\n",
       "5 1399862;0.006840852260701846 43149998;0.21086561487316616\n",
       "6 544565;0.0036109729096167574 39737860;0.2634990055294471 \n",
       "  EXCLUDED_TOO_CLOSE_FROM_RES  EXCLUDED_TOO_SHORT          \n",
       "1 71165405;0.32214566924633875 13074145;0.05918295822034138\n",
       "2 55525632;0.2564494868523805  10077260;0.04654261577568392\n",
       "3 72535121;0.4668211424709363  11660154;0.07504235653880081\n",
       "4 74787736;0.338630594107125   11548820;0.05229177920075354\n",
       "5 84818738;0.41449261112679503 12416541;0.06067721144651913\n",
       "6 61974834;0.4109508445309477  9770407;0.06478689411352169 \n",
       "  EXCLUDED_TOO_LARGE           EXCLUDED_OVER_REPRESENTED   \n",
       "1 27994;0.0001267209238095674  9420193;0.04264255052598486 \n",
       "2 34522;0.00015944256492421159 11475967;0.05300265377051183\n",
       "3 24329;0.0001565764476380402  9008993;0.05798002880249787 \n",
       "4 49365;0.00022351925826579673 13857740;0.06274631350228425\n",
       "5 44783;0.00021884577679157714 10745709;0.05251218170469244\n",
       "6 35375;0.00023456918215032695 8266866;0.054817017570780065\n",
       "  EXCLUDED_DUPLICATED          EXCLUDED_RANDOM_BREAKS      \n",
       "1 8891413;0.04024891295750507  123792;0.0005603713867340847\n",
       "2 15688726;0.07245961166308923 158380;0.0007314904534122191\n",
       "3 18836436;0.12122743372277099 145135;0.0009340590541307478\n",
       "4 36123427;0.1635628807669129  265574;0.0012024896889431926\n",
       "5 54506386;0.2663620656113156  1193757;0.005833657369211146\n",
       "6 32920930;0.21829641344814596 845282;0.00560500657035739  "
      ]
     },
     "metadata": {},
     "output_type": "display_data"
    },
    {
     "name": "stderr",
     "output_type": "stream",
     "text": [
      "Warning message in lapply(a[, 2:5], as.double):\n",
      "“NAs introduced by coercion”\n",
      "Warning message in lapply(a[, 2:5], as.double):\n",
      "“NAs introduced by coercion”\n",
      "Warning message in lapply(a[, 2:5], as.double):\n",
      "“NAs introduced by coercion”\n",
      "Warning message in lapply(a[, 2:5], as.double):\n",
      "“NAs introduced by coercion”\n"
     ]
    }
   ],
   "source": [
    "# select only those columns to compute the percentages.\n",
    "chunk=a[,8:17]\n",
    "head(chunk)\n",
    "# compute valid pairs\n",
    "valids=a[,19]/a[,18]\n",
    "# change character for double\n",
    "percs=as.data.frame(lapply(a[,2:5],as.double))\n",
    "# compute percentage over 1\n",
    "percs=percs/100"
   ]
  },
  {
   "cell_type": "code",
   "execution_count": 5,
   "metadata": {
    "collapsed": true
   },
   "outputs": [],
   "source": [
    "# Split the columns and create a new column besides each filter class with the percentage reported there\n",
    "for (i in seq(1,dim(chunk)[2],1)){\n",
    "    ca=data.frame(chunk[,i],stringsAsFactors = FALSE)\n",
    "    cn=colnames(chunk)[i]\n",
    "    colnames(ca)=cn\n",
    "    caca=ca %>% separate(colnames(chunk)[i], c(cn, paste0(cn,\"_perc\")),sep=\";\")\n",
    "    px=as.data.frame(caca[,2],stringsAsFactors = FALSE)\n",
    "    colnames(px)=paste0(cn,\"_perc\")\n",
    "    percs=cbind(percs,lapply(px,as.numeric))\n",
    "}"
   ]
  },
  {
   "cell_type": "code",
   "execution_count": 6,
   "metadata": {
    "collapsed": true
   },
   "outputs": [],
   "source": [
    "# add valid pairs\n",
    "percs$valid_pairs=valids"
   ]
  },
  {
   "cell_type": "code",
   "execution_count": 7,
   "metadata": {
    "collapsed": true
   },
   "outputs": [],
   "source": [
    "# column names formatting\n",
    "colnames(percs)=c(\"dangling ends r1\",\"ligated r1\",\"dangling ends r2\",\"ligated r2\",\"self circle\",\"dangling ends\",\"error\",\"extra dangling\", \"too close from res\", \"too short\", \"too large\", \"overrepresented\",\"duplicated\", \"random breaks\",\"valid pairs\")"
   ]
  },
  {
   "cell_type": "code",
   "execution_count": 8,
   "metadata": {
    "collapsed": false
   },
   "outputs": [
    {
     "data": {
      "text/html": [
       "<style>\n",
       ".list-inline {list-style: none; margin:0; padding: 0}\n",
       ".list-inline>li {display: inline-block}\n",
       ".list-inline>li:not(:last-child)::after {content: \"\\00b7\"; padding: 0 .5ex}\n",
       "</style>\n",
       "<ol class=list-inline><li>320</li><li>15</li></ol>\n"
      ],
      "text/latex": [
       "\\begin{enumerate*}\n",
       "\\item 320\n",
       "\\item 15\n",
       "\\end{enumerate*}\n"
      ],
      "text/markdown": [
       "1. 320\n",
       "2. 15\n",
       "\n",
       "\n"
      ],
      "text/plain": [
       "[1] 320  15"
      ]
     },
     "metadata": {},
     "output_type": "display_data"
    }
   ],
   "source": [
    "# How many we have\n",
    "dim(percs)"
   ]
  },
  {
   "cell_type": "code",
   "execution_count": 9,
   "metadata": {
    "collapsed": false
   },
   "outputs": [
    {
     "data": {
      "text/html": [
       "<style>\n",
       ".list-inline {list-style: none; margin:0; padding: 0}\n",
       ".list-inline>li {display: inline-block}\n",
       ".list-inline>li:not(:last-child)::after {content: \"\\00b7\"; padding: 0 .5ex}\n",
       "</style>\n",
       "<ol class=list-inline><li>316</li><li>15</li></ol>\n"
      ],
      "text/latex": [
       "\\begin{enumerate*}\n",
       "\\item 316\n",
       "\\item 15\n",
       "\\end{enumerate*}\n"
      ],
      "text/markdown": [
       "1. 316\n",
       "2. 15\n",
       "\n",
       "\n"
      ],
      "text/plain": [
       "[1] 316  15"
      ]
     },
     "metadata": {},
     "output_type": "display_data"
    },
    {
     "data": {
      "text/html": [
       "<table>\n",
       "<caption>A data.frame: 6 × 15</caption>\n",
       "<thead>\n",
       "\t<tr><th></th><th scope=col>dangling ends r1</th><th scope=col>ligated r1</th><th scope=col>dangling ends r2</th><th scope=col>ligated r2</th><th scope=col>self circle</th><th scope=col>dangling ends</th><th scope=col>error</th><th scope=col>extra dangling</th><th scope=col>too close from res</th><th scope=col>too short</th><th scope=col>too large</th><th scope=col>overrepresented</th><th scope=col>duplicated</th><th scope=col>random breaks</th><th scope=col>valid pairs</th></tr>\n",
       "\t<tr><th></th><th scope=col>&lt;dbl&gt;</th><th scope=col>&lt;dbl&gt;</th><th scope=col>&lt;dbl&gt;</th><th scope=col>&lt;dbl&gt;</th><th scope=col>&lt;dbl&gt;</th><th scope=col>&lt;dbl&gt;</th><th scope=col>&lt;dbl&gt;</th><th scope=col>&lt;dbl&gt;</th><th scope=col>&lt;dbl&gt;</th><th scope=col>&lt;dbl&gt;</th><th scope=col>&lt;dbl&gt;</th><th scope=col>&lt;dbl&gt;</th><th scope=col>&lt;dbl&gt;</th><th scope=col>&lt;dbl&gt;</th><th scope=col>&lt;dbl&gt;</th></tr>\n",
       "</thead>\n",
       "<tbody>\n",
       "\t<tr><th scope=row>1</th><td>0.07331</td><td>0.23132</td><td>0.08017</td><td>0.23060</td><td>0.0008181000</td><td>0.06321273</td><td>0.0003908956</td><td>0.1559981</td><td>0.3221457</td><td>0.05918296</td><td>0.0001267209</td><td>0.04264255</td><td>0.04024891</td><td>0.0005603714</td><td>0.8864393</td></tr>\n",
       "\t<tr><th scope=row>2</th><td>0.03291</td><td>0.25579</td><td>0.03056</td><td>0.26364</td><td>0.0008162783</td><td>0.08159006</td><td>0.0001538541</td><td>0.1780025</td><td>0.2564495</td><td>0.04654262</td><td>0.0001594426</td><td>0.05300265</td><td>0.07245961</td><td>0.0007314905</td><td>0.8284620</td></tr>\n",
       "\t<tr><th scope=row>3</th><td>0.06644</td><td>0.27054</td><td>0.06821</td><td>0.26698</td><td>0.0007128737</td><td>0.08271442</td><td>0.0046233333</td><td>0.2544237</td><td>0.4668211</td><td>0.07504236</td><td>0.0001565764</td><td>0.05798003</td><td>0.12122743</td><td>0.0009340591</td><td>0.7867297</td></tr>\n",
       "\t<tr><th scope=row>4</th><td>0.02121</td><td>0.25370</td><td>0.02163</td><td>0.25563</td><td>0.0013325714</td><td>0.05667816</td><td>0.0010502575</td><td>0.2086412</td><td>0.3386306</td><td>0.05229178</td><td>0.0002235193</td><td>0.06274631</td><td>0.16356288</td><td>0.0012024897</td><td>0.8000160</td></tr>\n",
       "\t<tr><th scope=row>5</th><td>0.07891</td><td>0.21146</td><td>0.08121</td><td>0.20882</td><td>0.0008646272</td><td>0.13588696</td><td>0.0068408523</td><td>0.2108656</td><td>0.4144926</td><td>0.06067721</td><td>0.0002188458</td><td>0.05251218</td><td>0.26636207</td><td>0.0058336574</td><td>0.6612235</td></tr>\n",
       "\t<tr><th scope=row>6</th><td>0.03578</td><td>0.27713</td><td>0.03734</td><td>0.26850</td><td>0.0007923299</td><td>0.19886169</td><td>0.0036109729</td><td>0.2634990</td><td>0.4109508</td><td>0.06478689</td><td>0.0002345692</td><td>0.05481702</td><td>0.21829641</td><td>0.0056050066</td><td>0.6483567</td></tr>\n",
       "</tbody>\n",
       "</table>\n"
      ],
      "text/latex": [
       "A data.frame: 6 × 15\n",
       "\\begin{tabular}{r|lllllllllllllll}\n",
       "  & dangling ends r1 & ligated r1 & dangling ends r2 & ligated r2 & self circle & dangling ends & error & extra dangling & too close from res & too short & too large & overrepresented & duplicated & random breaks & valid pairs\\\\\n",
       "  & <dbl> & <dbl> & <dbl> & <dbl> & <dbl> & <dbl> & <dbl> & <dbl> & <dbl> & <dbl> & <dbl> & <dbl> & <dbl> & <dbl> & <dbl>\\\\\n",
       "\\hline\n",
       "\t1 & 0.07331 & 0.23132 & 0.08017 & 0.23060 & 0.0008181000 & 0.06321273 & 0.0003908956 & 0.1559981 & 0.3221457 & 0.05918296 & 0.0001267209 & 0.04264255 & 0.04024891 & 0.0005603714 & 0.8864393\\\\\n",
       "\t2 & 0.03291 & 0.25579 & 0.03056 & 0.26364 & 0.0008162783 & 0.08159006 & 0.0001538541 & 0.1780025 & 0.2564495 & 0.04654262 & 0.0001594426 & 0.05300265 & 0.07245961 & 0.0007314905 & 0.8284620\\\\\n",
       "\t3 & 0.06644 & 0.27054 & 0.06821 & 0.26698 & 0.0007128737 & 0.08271442 & 0.0046233333 & 0.2544237 & 0.4668211 & 0.07504236 & 0.0001565764 & 0.05798003 & 0.12122743 & 0.0009340591 & 0.7867297\\\\\n",
       "\t4 & 0.02121 & 0.25370 & 0.02163 & 0.25563 & 0.0013325714 & 0.05667816 & 0.0010502575 & 0.2086412 & 0.3386306 & 0.05229178 & 0.0002235193 & 0.06274631 & 0.16356288 & 0.0012024897 & 0.8000160\\\\\n",
       "\t5 & 0.07891 & 0.21146 & 0.08121 & 0.20882 & 0.0008646272 & 0.13588696 & 0.0068408523 & 0.2108656 & 0.4144926 & 0.06067721 & 0.0002188458 & 0.05251218 & 0.26636207 & 0.0058336574 & 0.6612235\\\\\n",
       "\t6 & 0.03578 & 0.27713 & 0.03734 & 0.26850 & 0.0007923299 & 0.19886169 & 0.0036109729 & 0.2634990 & 0.4109508 & 0.06478689 & 0.0002345692 & 0.05481702 & 0.21829641 & 0.0056050066 & 0.6483567\\\\\n",
       "\\end{tabular}\n"
      ],
      "text/markdown": [
       "\n",
       "A data.frame: 6 × 15\n",
       "\n",
       "| <!--/--> | dangling ends r1 &lt;dbl&gt; | ligated r1 &lt;dbl&gt; | dangling ends r2 &lt;dbl&gt; | ligated r2 &lt;dbl&gt; | self circle &lt;dbl&gt; | dangling ends &lt;dbl&gt; | error &lt;dbl&gt; | extra dangling &lt;dbl&gt; | too close from res &lt;dbl&gt; | too short &lt;dbl&gt; | too large &lt;dbl&gt; | overrepresented &lt;dbl&gt; | duplicated &lt;dbl&gt; | random breaks &lt;dbl&gt; | valid pairs &lt;dbl&gt; |\n",
       "|---|---|---|---|---|---|---|---|---|---|---|---|---|---|---|---|\n",
       "| 1 | 0.07331 | 0.23132 | 0.08017 | 0.23060 | 0.0008181000 | 0.06321273 | 0.0003908956 | 0.1559981 | 0.3221457 | 0.05918296 | 0.0001267209 | 0.04264255 | 0.04024891 | 0.0005603714 | 0.8864393 |\n",
       "| 2 | 0.03291 | 0.25579 | 0.03056 | 0.26364 | 0.0008162783 | 0.08159006 | 0.0001538541 | 0.1780025 | 0.2564495 | 0.04654262 | 0.0001594426 | 0.05300265 | 0.07245961 | 0.0007314905 | 0.8284620 |\n",
       "| 3 | 0.06644 | 0.27054 | 0.06821 | 0.26698 | 0.0007128737 | 0.08271442 | 0.0046233333 | 0.2544237 | 0.4668211 | 0.07504236 | 0.0001565764 | 0.05798003 | 0.12122743 | 0.0009340591 | 0.7867297 |\n",
       "| 4 | 0.02121 | 0.25370 | 0.02163 | 0.25563 | 0.0013325714 | 0.05667816 | 0.0010502575 | 0.2086412 | 0.3386306 | 0.05229178 | 0.0002235193 | 0.06274631 | 0.16356288 | 0.0012024897 | 0.8000160 |\n",
       "| 5 | 0.07891 | 0.21146 | 0.08121 | 0.20882 | 0.0008646272 | 0.13588696 | 0.0068408523 | 0.2108656 | 0.4144926 | 0.06067721 | 0.0002188458 | 0.05251218 | 0.26636207 | 0.0058336574 | 0.6612235 |\n",
       "| 6 | 0.03578 | 0.27713 | 0.03734 | 0.26850 | 0.0007923299 | 0.19886169 | 0.0036109729 | 0.2634990 | 0.4109508 | 0.06478689 | 0.0002345692 | 0.05481702 | 0.21829641 | 0.0056050066 | 0.6483567 |\n",
       "\n"
      ],
      "text/plain": [
       "  dangling ends r1 ligated r1 dangling ends r2 ligated r2 self circle \n",
       "1 0.07331          0.23132    0.08017          0.23060    0.0008181000\n",
       "2 0.03291          0.25579    0.03056          0.26364    0.0008162783\n",
       "3 0.06644          0.27054    0.06821          0.26698    0.0007128737\n",
       "4 0.02121          0.25370    0.02163          0.25563    0.0013325714\n",
       "5 0.07891          0.21146    0.08121          0.20882    0.0008646272\n",
       "6 0.03578          0.27713    0.03734          0.26850    0.0007923299\n",
       "  dangling ends error        extra dangling too close from res too short \n",
       "1 0.06321273    0.0003908956 0.1559981      0.3221457          0.05918296\n",
       "2 0.08159006    0.0001538541 0.1780025      0.2564495          0.04654262\n",
       "3 0.08271442    0.0046233333 0.2544237      0.4668211          0.07504236\n",
       "4 0.05667816    0.0010502575 0.2086412      0.3386306          0.05229178\n",
       "5 0.13588696    0.0068408523 0.2108656      0.4144926          0.06067721\n",
       "6 0.19886169    0.0036109729 0.2634990      0.4109508          0.06478689\n",
       "  too large    overrepresented duplicated random breaks valid pairs\n",
       "1 0.0001267209 0.04264255      0.04024891 0.0005603714  0.8864393  \n",
       "2 0.0001594426 0.05300265      0.07245961 0.0007314905  0.8284620  \n",
       "3 0.0001565764 0.05798003      0.12122743 0.0009340591  0.7867297  \n",
       "4 0.0002235193 0.06274631      0.16356288 0.0012024897  0.8000160  \n",
       "5 0.0002188458 0.05251218      0.26636207 0.0058336574  0.6612235  \n",
       "6 0.0002345692 0.05481702      0.21829641 0.0056050066  0.6483567  "
      ]
     },
     "metadata": {},
     "output_type": "display_data"
    }
   ],
   "source": [
    "# use only those rows with full info (remove rows with NA's)\n",
    "percs=percs[complete.cases(percs), ]\n",
    "# After removing NA's (4 cases)\n",
    "dim(percs)\n",
    "head(percs)"
   ]
  },
  {
   "cell_type": "markdown",
   "metadata": {},
   "source": [
    "#### Placing the sample values on the graph"
   ]
  },
  {
   "cell_type": "code",
   "execution_count": null,
   "metadata": {
    "collapsed": true
   },
   "outputs": [],
   "source": [
    "# In bash; for each sample (workdir):\n",
    "cd ${wd};\n",
    "# Get the values for the errors in sample\n",
    "tadbit describe . | grep -A 4 \"INTERSECTION_OUTPUTs\" | tail -n1 | cut -d$'|' -f4 | sed 's/,//g' | awk '{print $1}' > tots;\n",
    "# Get the total number of interactions\n",
    "tadbit describe . | grep -A 14 \"FILTER_OUTPUTs\" | tail -n11 | cut -d$'|' -f5  | sed 's/,//g' | awk '{print $1}' > nums\n",
    "# Get the dangling ends and ligated sites\n",
    "tadbit describe . | grep -A6 'MAPPED_INPUTs' | tail -n4 | cut -d$'|' -f9,10 | grep -Eo '[0-9\\.]*' | sed -e 1,3b -e '$!d' > dangs_lig"
   ]
  },
  {
   "cell_type": "code",
   "execution_count": 10,
   "metadata": {
    "collapsed": true
   },
   "outputs": [],
   "source": [
    "# disable scientific notation\n",
    "options(scipen=999)\n",
    "\n",
    "# enable again\n",
    "#options(scipen=0)"
   ]
  },
  {
   "cell_type": "code",
   "execution_count": 11,
   "metadata": {
    "collapsed": true
   },
   "outputs": [],
   "source": [
    "# In R, read both files for all\n",
    "vals10=read.table(\"/home/jrodriguez/scratch/ancient_assembly_hic/paper_test_folder/10_Zebra_finch_Oz13/nums\")\n",
    "total10=as.numeric(read.table(\"/home/jrodriguez/scratch/ancient_assembly_hic/paper_test_folder/10_Zebra_finch_Oz13/tots\"))\n",
    "dangs_lig10=read.table(\"/home/jrodriguez/scratch/ancient_assembly_hic/paper_test_folder/10_Zebra_finch_Oz13/dangs_lig\")\n",
    "\n",
    "vals18=read.table(\"/home/jrodriguez/scratch/ancient_assembly_hic/paper_test_folder/18_Zebra_finch_Mz13/nums\")\n",
    "total18=as.numeric(read.table(\"/home/jrodriguez/scratch/ancient_assembly_hic/paper_test_folder/18_Zebra_finch_Mz13/tots\"))\n",
    "dangs_lig18=read.table(\"/home/jrodriguez/scratch/ancient_assembly_hic/paper_test_folder/18_Zebra_finch_Mz13/dangs_lig\")\n",
    "\n",
    "vals19=read.table(\"/home/jrodriguez/scratch/ancient_assembly_hic/paper_test_folder/19_Zebra_finch_Mz17/nums\")\n",
    "total19=as.numeric(read.table(\"/home/jrodriguez/scratch/ancient_assembly_hic/paper_test_folder/19_Zebra_finch_Mz17/tots\"))\n",
    "dangs_lig19=read.table(\"/home/jrodriguez/scratch/ancient_assembly_hic/paper_test_folder/19_Zebra_finch_Mz17/dangs_lig\")\n",
    "\n",
    "vals10=vals10/total10\n",
    "vals10=bind_rows(dangs_lig10/100,vals10)\n",
    "rownames(vals10)=colnames(percs)\n",
    "\n",
    "vals18=vals18/total18\n",
    "vals18=bind_rows(dangs_lig18/100,vals18)\n",
    "rownames(vals18)=colnames(percs)\n",
    "\n",
    "vals19=vals19/total19\n",
    "vals19=bind_rows(dangs_lig19/100,vals19)\n",
    "rownames(vals19)=colnames(percs)"
   ]
  },
  {
   "cell_type": "code",
   "execution_count": 12,
   "metadata": {
    "collapsed": false
   },
   "outputs": [
    {
     "name": "stderr",
     "output_type": "stream",
     "text": [
      "No id variables; using all as measure variables\n",
      "\n",
      "No id variables; using all as measure variables\n",
      "\n",
      "No id variables; using all as measure variables\n",
      "\n"
     ]
    }
   ],
   "source": [
    "# Merge all samples\n",
    "colnames(vals10)=c(\"value\")\n",
    "colnames(vals18)=c(\"value\")\n",
    "colnames(vals19)=c(\"value\")\n",
    "\n",
    "a10=melt(vals10)\n",
    "a18=melt(vals18)\n",
    "a19=melt(vals19)\n",
    "\n",
    "a10$variable=as.factor(colnames(percs))\n",
    "a10$Sample=\"Oz13\"\n",
    "a18$variable=as.factor(colnames(percs))\n",
    "a18$Sample=\"Mz13\"\n",
    "a19$variable=as.factor(colnames(percs))\n",
    "a19$Sample=\"Mz17\""
   ]
  },
  {
   "cell_type": "code",
   "execution_count": 13,
   "metadata": {
    "collapsed": true
   },
   "outputs": [],
   "source": [
    "all=bind_rows(a10,a18,a19)\n",
    "\n",
    "all$Sample=as.factor(all$Sample)"
   ]
  },
  {
   "cell_type": "code",
   "execution_count": 14,
   "metadata": {
    "collapsed": false
   },
   "outputs": [
    {
     "data": {
      "text/html": [
       "<table>\n",
       "<caption>A data.frame: 45 × 3</caption>\n",
       "<thead>\n",
       "\t<tr><th scope=col>variable</th><th scope=col>value</th><th scope=col>Sample</th></tr>\n",
       "\t<tr><th scope=col>&lt;fct&gt;</th><th scope=col>&lt;dbl&gt;</th><th scope=col>&lt;fct&gt;</th></tr>\n",
       "</thead>\n",
       "<tbody>\n",
       "\t<tr><td>dangling ends r1  </td><td>0.030000000000</td><td>Oz13</td></tr>\n",
       "\t<tr><td>ligated r1        </td><td>0.316010000000</td><td>Oz13</td></tr>\n",
       "\t<tr><td>dangling ends r2  </td><td>0.030000000000</td><td>Oz13</td></tr>\n",
       "\t<tr><td>ligated r2        </td><td>0.298200000000</td><td>Oz13</td></tr>\n",
       "\t<tr><td>self circle       </td><td>0.000623176006</td><td>Oz13</td></tr>\n",
       "\t<tr><td>dangling ends     </td><td>0.332374768033</td><td>Oz13</td></tr>\n",
       "\t<tr><td>error             </td><td>0.000489399795</td><td>Oz13</td></tr>\n",
       "\t<tr><td>extra dangling    </td><td>0.288776641185</td><td>Oz13</td></tr>\n",
       "\t<tr><td>too close from res</td><td>0.292769182340</td><td>Oz13</td></tr>\n",
       "\t<tr><td>too short         </td><td>0.050580325471</td><td>Oz13</td></tr>\n",
       "\t<tr><td>too large         </td><td>0.000001149468</td><td>Oz13</td></tr>\n",
       "\t<tr><td>overrepresented   </td><td>0.184060958601</td><td>Oz13</td></tr>\n",
       "\t<tr><td>duplicated        </td><td>0.746469175613</td><td>Oz13</td></tr>\n",
       "\t<tr><td>random breaks     </td><td>0.053636871044</td><td>Oz13</td></tr>\n",
       "\t<tr><td>valid pairs       </td><td>0.221349489967</td><td>Oz13</td></tr>\n",
       "\t<tr><td>dangling ends r1  </td><td>0.050000000000</td><td>Mz13</td></tr>\n",
       "\t<tr><td>ligated r1        </td><td>0.148030000000</td><td>Mz13</td></tr>\n",
       "\t<tr><td>dangling ends r2  </td><td>0.050000000000</td><td>Mz13</td></tr>\n",
       "\t<tr><td>ligated r2        </td><td>0.144440000000</td><td>Mz13</td></tr>\n",
       "\t<tr><td>self circle       </td><td>0.000245294992</td><td>Mz13</td></tr>\n",
       "\t<tr><td>dangling ends     </td><td>0.424299467028</td><td>Mz13</td></tr>\n",
       "\t<tr><td>error             </td><td>0.000266190492</td><td>Mz13</td></tr>\n",
       "\t<tr><td>extra dangling    </td><td>0.337880224272</td><td>Mz13</td></tr>\n",
       "\t<tr><td>too close from res</td><td>0.292011877729</td><td>Mz13</td></tr>\n",
       "\t<tr><td>too short         </td><td>0.043126493631</td><td>Mz13</td></tr>\n",
       "\t<tr><td>too large         </td><td>0.000000454250</td><td>Mz13</td></tr>\n",
       "\t<tr><td>overrepresented   </td><td>0.202854870309</td><td>Mz13</td></tr>\n",
       "\t<tr><td>duplicated        </td><td>0.538828153142</td><td>Mz13</td></tr>\n",
       "\t<tr><td>random breaks     </td><td>0.063488703484</td><td>Mz13</td></tr>\n",
       "\t<tr><td>valid pairs       </td><td>0.383513723573</td><td>Mz13</td></tr>\n",
       "\t<tr><td>dangling ends r1  </td><td>0.020000000000</td><td>Mz17</td></tr>\n",
       "\t<tr><td>ligated r1        </td><td>0.078500000000</td><td>Mz17</td></tr>\n",
       "\t<tr><td>dangling ends r2  </td><td>0.020000000000</td><td>Mz17</td></tr>\n",
       "\t<tr><td>ligated r2        </td><td>0.073100000000</td><td>Mz17</td></tr>\n",
       "\t<tr><td>self circle       </td><td>0.000283001150</td><td>Mz17</td></tr>\n",
       "\t<tr><td>dangling ends     </td><td>0.502507776100</td><td>Mz17</td></tr>\n",
       "\t<tr><td>error             </td><td>0.000377549261</td><td>Mz17</td></tr>\n",
       "\t<tr><td>extra dangling    </td><td>0.332689720112</td><td>Mz17</td></tr>\n",
       "\t<tr><td>too close from res</td><td>0.142757357387</td><td>Mz17</td></tr>\n",
       "\t<tr><td>too short         </td><td>0.028925290269</td><td>Mz17</td></tr>\n",
       "\t<tr><td>too large         </td><td>0.000000000000</td><td>Mz17</td></tr>\n",
       "\t<tr><td>overrepresented   </td><td>0.041307876951</td><td>Mz17</td></tr>\n",
       "\t<tr><td>duplicated        </td><td>0.166845900728</td><td>Mz17</td></tr>\n",
       "\t<tr><td>random breaks     </td><td>0.113966492664</td><td>Mz17</td></tr>\n",
       "\t<tr><td>valid pairs       </td><td>0.717090182176</td><td>Mz17</td></tr>\n",
       "</tbody>\n",
       "</table>\n"
      ],
      "text/latex": [
       "A data.frame: 45 × 3\n",
       "\\begin{tabular}{lll}\n",
       " variable & value & Sample\\\\\n",
       " <fct> & <dbl> & <fct>\\\\\n",
       "\\hline\n",
       "\t dangling ends r1   & 0.030000000000 & Oz13\\\\\n",
       "\t ligated r1         & 0.316010000000 & Oz13\\\\\n",
       "\t dangling ends r2   & 0.030000000000 & Oz13\\\\\n",
       "\t ligated r2         & 0.298200000000 & Oz13\\\\\n",
       "\t self circle        & 0.000623176006 & Oz13\\\\\n",
       "\t dangling ends      & 0.332374768033 & Oz13\\\\\n",
       "\t error              & 0.000489399795 & Oz13\\\\\n",
       "\t extra dangling     & 0.288776641185 & Oz13\\\\\n",
       "\t too close from res & 0.292769182340 & Oz13\\\\\n",
       "\t too short          & 0.050580325471 & Oz13\\\\\n",
       "\t too large          & 0.000001149468 & Oz13\\\\\n",
       "\t overrepresented    & 0.184060958601 & Oz13\\\\\n",
       "\t duplicated         & 0.746469175613 & Oz13\\\\\n",
       "\t random breaks      & 0.053636871044 & Oz13\\\\\n",
       "\t valid pairs        & 0.221349489967 & Oz13\\\\\n",
       "\t dangling ends r1   & 0.050000000000 & Mz13\\\\\n",
       "\t ligated r1         & 0.148030000000 & Mz13\\\\\n",
       "\t dangling ends r2   & 0.050000000000 & Mz13\\\\\n",
       "\t ligated r2         & 0.144440000000 & Mz13\\\\\n",
       "\t self circle        & 0.000245294992 & Mz13\\\\\n",
       "\t dangling ends      & 0.424299467028 & Mz13\\\\\n",
       "\t error              & 0.000266190492 & Mz13\\\\\n",
       "\t extra dangling     & 0.337880224272 & Mz13\\\\\n",
       "\t too close from res & 0.292011877729 & Mz13\\\\\n",
       "\t too short          & 0.043126493631 & Mz13\\\\\n",
       "\t too large          & 0.000000454250 & Mz13\\\\\n",
       "\t overrepresented    & 0.202854870309 & Mz13\\\\\n",
       "\t duplicated         & 0.538828153142 & Mz13\\\\\n",
       "\t random breaks      & 0.063488703484 & Mz13\\\\\n",
       "\t valid pairs        & 0.383513723573 & Mz13\\\\\n",
       "\t dangling ends r1   & 0.020000000000 & Mz17\\\\\n",
       "\t ligated r1         & 0.078500000000 & Mz17\\\\\n",
       "\t dangling ends r2   & 0.020000000000 & Mz17\\\\\n",
       "\t ligated r2         & 0.073100000000 & Mz17\\\\\n",
       "\t self circle        & 0.000283001150 & Mz17\\\\\n",
       "\t dangling ends      & 0.502507776100 & Mz17\\\\\n",
       "\t error              & 0.000377549261 & Mz17\\\\\n",
       "\t extra dangling     & 0.332689720112 & Mz17\\\\\n",
       "\t too close from res & 0.142757357387 & Mz17\\\\\n",
       "\t too short          & 0.028925290269 & Mz17\\\\\n",
       "\t too large          & 0.000000000000 & Mz17\\\\\n",
       "\t overrepresented    & 0.041307876951 & Mz17\\\\\n",
       "\t duplicated         & 0.166845900728 & Mz17\\\\\n",
       "\t random breaks      & 0.113966492664 & Mz17\\\\\n",
       "\t valid pairs        & 0.717090182176 & Mz17\\\\\n",
       "\\end{tabular}\n"
      ],
      "text/markdown": [
       "\n",
       "A data.frame: 45 × 3\n",
       "\n",
       "| variable &lt;fct&gt; | value &lt;dbl&gt; | Sample &lt;fct&gt; |\n",
       "|---|---|---|\n",
       "| dangling ends r1   | 0.030000000000 | Oz13 |\n",
       "| ligated r1         | 0.316010000000 | Oz13 |\n",
       "| dangling ends r2   | 0.030000000000 | Oz13 |\n",
       "| ligated r2         | 0.298200000000 | Oz13 |\n",
       "| self circle        | 0.000623176006 | Oz13 |\n",
       "| dangling ends      | 0.332374768033 | Oz13 |\n",
       "| error              | 0.000489399795 | Oz13 |\n",
       "| extra dangling     | 0.288776641185 | Oz13 |\n",
       "| too close from res | 0.292769182340 | Oz13 |\n",
       "| too short          | 0.050580325471 | Oz13 |\n",
       "| too large          | 0.000001149468 | Oz13 |\n",
       "| overrepresented    | 0.184060958601 | Oz13 |\n",
       "| duplicated         | 0.746469175613 | Oz13 |\n",
       "| random breaks      | 0.053636871044 | Oz13 |\n",
       "| valid pairs        | 0.221349489967 | Oz13 |\n",
       "| dangling ends r1   | 0.050000000000 | Mz13 |\n",
       "| ligated r1         | 0.148030000000 | Mz13 |\n",
       "| dangling ends r2   | 0.050000000000 | Mz13 |\n",
       "| ligated r2         | 0.144440000000 | Mz13 |\n",
       "| self circle        | 0.000245294992 | Mz13 |\n",
       "| dangling ends      | 0.424299467028 | Mz13 |\n",
       "| error              | 0.000266190492 | Mz13 |\n",
       "| extra dangling     | 0.337880224272 | Mz13 |\n",
       "| too close from res | 0.292011877729 | Mz13 |\n",
       "| too short          | 0.043126493631 | Mz13 |\n",
       "| too large          | 0.000000454250 | Mz13 |\n",
       "| overrepresented    | 0.202854870309 | Mz13 |\n",
       "| duplicated         | 0.538828153142 | Mz13 |\n",
       "| random breaks      | 0.063488703484 | Mz13 |\n",
       "| valid pairs        | 0.383513723573 | Mz13 |\n",
       "| dangling ends r1   | 0.020000000000 | Mz17 |\n",
       "| ligated r1         | 0.078500000000 | Mz17 |\n",
       "| dangling ends r2   | 0.020000000000 | Mz17 |\n",
       "| ligated r2         | 0.073100000000 | Mz17 |\n",
       "| self circle        | 0.000283001150 | Mz17 |\n",
       "| dangling ends      | 0.502507776100 | Mz17 |\n",
       "| error              | 0.000377549261 | Mz17 |\n",
       "| extra dangling     | 0.332689720112 | Mz17 |\n",
       "| too close from res | 0.142757357387 | Mz17 |\n",
       "| too short          | 0.028925290269 | Mz17 |\n",
       "| too large          | 0.000000000000 | Mz17 |\n",
       "| overrepresented    | 0.041307876951 | Mz17 |\n",
       "| duplicated         | 0.166845900728 | Mz17 |\n",
       "| random breaks      | 0.113966492664 | Mz17 |\n",
       "| valid pairs        | 0.717090182176 | Mz17 |\n",
       "\n"
      ],
      "text/plain": [
       "   variable           value          Sample\n",
       "1  dangling ends r1   0.030000000000 Oz13  \n",
       "2  ligated r1         0.316010000000 Oz13  \n",
       "3  dangling ends r2   0.030000000000 Oz13  \n",
       "4  ligated r2         0.298200000000 Oz13  \n",
       "5  self circle        0.000623176006 Oz13  \n",
       "6  dangling ends      0.332374768033 Oz13  \n",
       "7  error              0.000489399795 Oz13  \n",
       "8  extra dangling     0.288776641185 Oz13  \n",
       "9  too close from res 0.292769182340 Oz13  \n",
       "10 too short          0.050580325471 Oz13  \n",
       "11 too large          0.000001149468 Oz13  \n",
       "12 overrepresented    0.184060958601 Oz13  \n",
       "13 duplicated         0.746469175613 Oz13  \n",
       "14 random breaks      0.053636871044 Oz13  \n",
       "15 valid pairs        0.221349489967 Oz13  \n",
       "16 dangling ends r1   0.050000000000 Mz13  \n",
       "17 ligated r1         0.148030000000 Mz13  \n",
       "18 dangling ends r2   0.050000000000 Mz13  \n",
       "19 ligated r2         0.144440000000 Mz13  \n",
       "20 self circle        0.000245294992 Mz13  \n",
       "21 dangling ends      0.424299467028 Mz13  \n",
       "22 error              0.000266190492 Mz13  \n",
       "23 extra dangling     0.337880224272 Mz13  \n",
       "24 too close from res 0.292011877729 Mz13  \n",
       "25 too short          0.043126493631 Mz13  \n",
       "26 too large          0.000000454250 Mz13  \n",
       "27 overrepresented    0.202854870309 Mz13  \n",
       "28 duplicated         0.538828153142 Mz13  \n",
       "29 random breaks      0.063488703484 Mz13  \n",
       "30 valid pairs        0.383513723573 Mz13  \n",
       "31 dangling ends r1   0.020000000000 Mz17  \n",
       "32 ligated r1         0.078500000000 Mz17  \n",
       "33 dangling ends r2   0.020000000000 Mz17  \n",
       "34 ligated r2         0.073100000000 Mz17  \n",
       "35 self circle        0.000283001150 Mz17  \n",
       "36 dangling ends      0.502507776100 Mz17  \n",
       "37 error              0.000377549261 Mz17  \n",
       "38 extra dangling     0.332689720112 Mz17  \n",
       "39 too close from res 0.142757357387 Mz17  \n",
       "40 too short          0.028925290269 Mz17  \n",
       "41 too large          0.000000000000 Mz17  \n",
       "42 overrepresented    0.041307876951 Mz17  \n",
       "43 duplicated         0.166845900728 Mz17  \n",
       "44 random breaks      0.113966492664 Mz17  \n",
       "45 valid pairs        0.717090182176 Mz17  "
      ]
     },
     "metadata": {},
     "output_type": "display_data"
    }
   ],
   "source": [
    "all"
   ]
  },
  {
   "cell_type": "markdown",
   "metadata": {},
   "source": [
    "### Saving tabular data for Figure 1"
   ]
  },
  {
   "cell_type": "code",
   "execution_count": 19,
   "metadata": {
    "collapsed": false
   },
   "outputs": [],
   "source": [
    "# Background data\n",
    "write.table(percs,\"/home/jrodriguez/scratch/ancient_assembly_hic/paper_test_folder/Figure1_background_data_316_samples.tsv\",\n",
    "            sep=\"\\t\",row.names=FALSE, quote=FALSE)\n",
    "# Observed 3 points data.\n",
    "write.table(all,\"/home/jrodriguez/scratch/ancient_assembly_hic/paper_test_folder/Figure1_points_3_samples_data.tsv\",\n",
    "            sep=\"\\t\",row.names=FALSE, quote=FALSE)"
   ]
  },
  {
   "cell_type": "markdown",
   "metadata": {},
   "source": [
    "adding..."
   ]
  },
  {
   "cell_type": "code",
   "execution_count": 64,
   "metadata": {
    "collapsed": false
   },
   "outputs": [
    {
     "name": "stderr",
     "output_type": "stream",
     "text": [
      "No id variables; using all as measure variables\n",
      "\n"
     ]
    },
    {
     "data": {
      "image/png": "[encoded data removed]",
      "text/plain": [
       "plot without title"
      ]
     },
     "metadata": {
      "image/png": {
       "height": 420,
       "width": 420
      },
      "text/plain": {
       "height": 420,
       "width": 420
      }
     },
     "output_type": "display_data"
    }
   ],
   "source": [
    "a=ggplot(data = melt(percs),\n",
    "           aes(x=variable, y=value*100)) + \n",
    "geom_boxplot(aes(fill=variable),\n",
    "             fill=alpha('lightblue',0.5),\n",
    "             outlier.size = 0.1,\n",
    "             lwd=0.1) + \n",
    "theme_classic() +\n",
    "\n",
    "geom_jitter(data=all,aes(color=Sample),alpha=0.6,size=2,width = 0.3) +\n",
    "xlab(\"Parameter\") +\n",
    "scale_color_manual(values = c(\"purple\",\"gold\",\"darkgreen\")) +\n",
    "ylab(\"Percent\") +\n",
    "theme(legend.position=\"right\",\n",
    "      axis.text.x = element_text(angle = 75, \n",
    "                                 face = \"bold\", \n",
    "                                 color = \"#993333\", \n",
    "                                 size = 7,\n",
    "                                 margin = margin(t = 30))) # top margin\n",
    "\n"
   ]
  },
  {
   "cell_type": "code",
   "execution_count": 65,
   "metadata": {
    "collapsed": false
   },
   "outputs": [
    {
     "data": {
      "text/html": [
       "<strong>png:</strong> 2"
      ],
      "text/latex": [
       "\\textbf{png:} 2"
      ],
      "text/markdown": [
       "**png:** 2"
      ],
      "text/plain": [
       "png \n",
       "  2 "
      ]
     },
     "metadata": {},
     "output_type": "display_data"
    }
   ],
   "source": [
    "pdf(\"/home/jrodriguez/scratch/ancient_assembly_hic/paper_test_folder/response_referees//illumina_4DGenome_comparison.pdf\")\n",
    "a\n",
    "dev.off()"
   ]
  },
  {
   "cell_type": "markdown",
   "metadata": {},
   "source": [
    "**END**"
   ]
  }
 ],
 "metadata": {
  "kernelspec": {
   "display_name": "R",
   "language": "R",
   "name": "ir"
  },
  "language_info": {
   "codemirror_mode": "r",
   "file_extension": ".r",
   "mimetype": "text/x-r-source",
   "name": "R",
   "pygments_lexer": "r",
   "version": "3.6.3"
  },
  "toc": {
   "base_numbering": 1,
   "nav_menu": {},
   "number_sections": true,
   "sideBar": true,
   "skip_h1_title": false,
   "title_cell": "Table of Contents",
   "title_sidebar": "Contents",
   "toc_cell": true,
   "toc_position": {},
   "toc_section_display": true,
   "toc_window_display": false
  }
 },
 "nbformat": 4,
 "nbformat_minor": 2
}
