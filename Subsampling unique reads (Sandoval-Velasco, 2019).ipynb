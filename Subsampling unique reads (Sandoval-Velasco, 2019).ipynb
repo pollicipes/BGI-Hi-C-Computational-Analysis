{
 "cells": [
  {
   "cell_type": "markdown",
   "metadata": {
    "toc": true
   },
   "source": [
    "<h1>Table of Contents<span class=\"tocSkip\"></span></h1>\n",
    "<div class=\"toc\"><ul class=\"toc-item\"><li><span><a href=\"#Figure-2:-Complexity-plot-for-the-3-samples\" data-toc-modified-id=\"Figure-2:-Complexity-plot-for-the-3-samples-1\"><span class=\"toc-item-num\">1&nbsp;&nbsp;</span>Figure 2: Complexity plot for the 3 samples</a></span></li></ul></div>"
   ]
  },
  {
   "cell_type": "markdown",
   "metadata": {},
   "source": [
    "## Figure 2: Complexity plot for the 3 samples"
   ]
  },
  {
   "cell_type": "code",
   "execution_count": 1,
   "metadata": {
    "collapsed": false
   },
   "outputs": [
    {
     "name": "stderr",
     "output_type": "stream",
     "text": [
      "\n",
      "Attaching package: ‘dplyr’\n",
      "\n",
      "\n",
      "The following objects are masked from ‘package:stats’:\n",
      "\n",
      "    filter, lag\n",
      "\n",
      "\n",
      "The following objects are masked from ‘package:base’:\n",
      "\n",
      "    intersect, setdiff, setequal, union\n",
      "\n",
      "\n",
      "\n",
      "Attaching package: ‘reshape’\n",
      "\n",
      "\n",
      "The following object is masked from ‘package:dplyr’:\n",
      "\n",
      "    rename\n",
      "\n",
      "\n"
     ]
    }
   ],
   "source": [
    "library(dplyr)\n",
    "library(reshape)"
   ]
  },
  {
   "cell_type": "code",
   "execution_count": 2,
   "metadata": {
    "collapsed": true
   },
   "outputs": [],
   "source": [
    "# define function to count unique reads mapped\n",
    "frac_uniq_reads = function(dfr,prop){\n",
    "    caca=sample_frac(dfr, size = prop, replace = FALSE)\n",
    "    tots=dim(caca)[1]\n",
    "    unicos=length(unique(caca$V1))    \n",
    "    return(list(unicos,tots))           \n",
    "}"
   ]
  },
  {
   "cell_type": "code",
   "execution_count": 3,
   "metadata": {
    "collapsed": true
   },
   "outputs": [],
   "source": [
    "# Percentages binning to calculate the unique/mapped proportion\n",
    "jumps=seq(0.05,1,0.05)"
   ]
  },
  {
   "cell_type": "code",
   "execution_count": 4,
   "metadata": {
    "collapsed": true
   },
   "outputs": [],
   "source": [
    "# read all the files\n",
    "mapfiles=Sys.glob(\"/home/jrodriguez/scratch/ancient_assembly_hic/paper_test_folder/*_Zebra_finch_*/01_mapped_r1/*full_1-end_*.map\")"
   ]
  },
  {
   "cell_type": "code",
   "execution_count": 5,
   "metadata": {
    "collapsed": true
   },
   "outputs": [],
   "source": [
    "# define an empty list where to store the set of three\n",
    "all_reads=list()\n",
    "# iterate the files and cut the file \n",
    "for (i in mapfiles){\n",
    "    # get the name of the individual\n",
    "    aka=unlist(strsplit(i,\"/\"))[7]\n",
    "    # Define the sequence file\n",
    "    seqs=paste(i,\".seqs\",sep='')\n",
    "    # run tha bash to cut the reads\n",
    "    try(system(paste(\"cut -f2\",i,\">\",seqs,sep=' '), intern = TRUE))\n",
    "    # Now read the generated sequences for each file\n",
    "    map=read.table(seqs,colClasses = (\"character\"))\n",
    "    # define a data frame where to store\n",
    "    un_reads <- data.frame(matrix(ncol = 2, nrow = 0))\n",
    "    x <- c(\"uniques\",\"total\")\n",
    "    colnames(un_reads) <- x\n",
    "    # for each jump do the subsampling\n",
    "    for (k in jumps){\n",
    "        uns=data.frame(frac_uniq_reads(map,k))\n",
    "        colnames(uns)=c(\"uniques\",\"total\")\n",
    "        un_reads=bind_rows(un_reads,uns)\n",
    "    }\n",
    "    all_reads[[aka]] <- un_reads    \n",
    "}"
   ]
  },
  {
   "cell_type": "code",
   "execution_count": 6,
   "metadata": {
    "collapsed": false
   },
   "outputs": [
    {
     "data": {
      "text/html": [
       "<style>\n",
       ".list-inline {list-style: none; margin:0; padding: 0}\n",
       ".list-inline>li {display: inline-block}\n",
       ".list-inline>li:not(:last-child)::after {content: \"\\00b7\"; padding: 0 .5ex}\n",
       "</style>\n",
       "<ol class=list-inline><li>'10_Zebra_finch_Oz13'</li><li>'18_Zebra_finch_Mz13'</li><li>'19_Zebra_finch_Mz17'</li></ol>\n"
      ],
      "text/latex": [
       "\\begin{enumerate*}\n",
       "\\item '10\\_Zebra\\_finch\\_Oz13'\n",
       "\\item '18\\_Zebra\\_finch\\_Mz13'\n",
       "\\item '19\\_Zebra\\_finch\\_Mz17'\n",
       "\\end{enumerate*}\n"
      ],
      "text/markdown": [
       "1. '10_Zebra_finch_Oz13'\n",
       "2. '18_Zebra_finch_Mz13'\n",
       "3. '19_Zebra_finch_Mz17'\n",
       "\n",
       "\n"
      ],
      "text/plain": [
       "[1] \"10_Zebra_finch_Oz13\" \"18_Zebra_finch_Mz13\" \"19_Zebra_finch_Mz17\""
      ]
     },
     "metadata": {},
     "output_type": "display_data"
    }
   ],
   "source": [
    "names(all_reads)"
   ]
  },
  {
   "cell_type": "code",
   "execution_count": 7,
   "metadata": {
    "collapsed": true
   },
   "outputs": [],
   "source": [
    "# Emulate ggplot colors :)\n",
    "gg_color_hue <- function(n) {\n",
    "  hues = seq(15, 375, length = n + 1)\n",
    "  hcl(h = hues, l = 65, c = 100)[1:n]\n",
    "}\n",
    "n = 3\n",
    "cols = gg_color_hue(n)"
   ]
  },
  {
   "cell_type": "code",
   "execution_count": 8,
   "metadata": {
    "collapsed": true
   },
   "outputs": [],
   "source": [
    "options(scipen=999)"
   ]
  },
  {
   "cell_type": "code",
   "execution_count": 9,
   "metadata": {
    "collapsed": true
   },
   "outputs": [
    {
     "data": {
      "image/png": "[encoded data removed]",
      "text/plain": [
       "plot without title"
      ]
     },
     "metadata": {
      "image/png": {
       "height": 420,
       "width": 420
      },
      "text/plain": {
       "height": 420,
       "width": 420
      }
     },
     "output_type": "display_data"
    }
   ],
   "source": [
    "#pdf(\"/home/jrodriguez/scratch/ancient_assembly_hic/paper_test_folder/response_referees/library_complexity_exhaustion_fullmap.pdf\")\n",
    "plot(all_reads[[3]]$total,all_reads[[3]]$uniques,\n",
    "     ylim=c(0,15000000),\n",
    "     xlim=c(0,15000000),\n",
    "#     ylim=c(0,15000000),\n",
    "#     xlim=c(0,15000000),\n",
    "     col='gold', # green\n",
    "     type='b',\n",
    "     pch=20,\n",
    "     cex=0.5,\n",
    "    xlab=\"Total mapped reads\",\n",
    "    ylab='Unique reads')\n",
    "points(all_reads[[2]]$total,all_reads[[2]]$uniques,col='purple',type='b',pch=20, # red\n",
    "     cex=0.5)\n",
    "points(all_reads[[1]]$total,all_reads[[1]]$uniques,col='darkgreen',type='b',pch=20, # blue\n",
    "     cex=0.5)\n",
    "\n",
    "legend(x=\"topright\", legend=c(\"Oz13\", \"Mz13\",\"Mz17\"),\n",
    "       col=c(\"darkgreen\", \"purple\",\"gold\"), pch=16, cex=0.7)\n",
    "#dev.off()"
   ]
  },
  {
   "cell_type": "code",
   "execution_count": null,
   "metadata": {
    "collapsed": false
   },
   "outputs": [],
   "source": [
    "# This saves a R list object into the file, which should be subsequently loaded into R using the function load()\n",
    "save(all_reads,file=\"/home/jrodriguez/scratch/ancient_assembly_hic/paper_test_folder/Figure2_subsample_reads.Rdata\")"
   ]
  }
 ],
 "metadata": {
  "kernelspec": {
   "display_name": "R",
   "language": "R",
   "name": "ir"
  },
  "language_info": {
   "codemirror_mode": "r",
   "file_extension": ".r",
   "mimetype": "text/x-r-source",
   "name": "R",
   "pygments_lexer": "r",
   "version": "3.6.3"
  },
  "toc": {
   "base_numbering": 1,
   "nav_menu": {},
   "number_sections": true,
   "sideBar": true,
   "skip_h1_title": false,
   "title_cell": "Table of Contents",
   "title_sidebar": "Contents",
   "toc_cell": true,
   "toc_position": {},
   "toc_section_display": true,
   "toc_window_display": false
  }
 },
 "nbformat": 4,
 "nbformat_minor": 2
}
