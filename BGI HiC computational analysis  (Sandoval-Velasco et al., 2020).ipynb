{
 "cells": [
  {
   "cell_type": "markdown",
   "metadata": {
    "toc": true
   },
   "source": [
    "<h1>Table of Contents<span class=\"tocSkip\"></span></h1>\n",
    "<div class=\"toc\"><ul class=\"toc-item\"><li><span><a href=\"#Running-the-TADbit-pipeline-for-BGI-HiC-analysis\" data-toc-modified-id=\"Running-the-TADbit-pipeline-for-BGI-HiC-analysis-1\"><span class=\"toc-item-num\">1&nbsp;&nbsp;</span>Running the TADbit pipeline for BGI HiC analysis</a></span><ul class=\"toc-item\"><li><span><a href=\"#Installing-and-setting-up\" data-toc-modified-id=\"Installing-and-setting-up-1.1\"><span class=\"toc-item-num\">1.1&nbsp;&nbsp;</span>Installing and setting up</a></span><ul class=\"toc-item\"><li><span><a href=\"#TADbit\" data-toc-modified-id=\"TADbit-1.1.1\"><span class=\"toc-item-num\">1.1.1&nbsp;&nbsp;</span>TADbit</a></span></li><li><span><a href=\"#GEM-mapper\" data-toc-modified-id=\"GEM-mapper-1.1.2\"><span class=\"toc-item-num\">1.1.2&nbsp;&nbsp;</span>GEM mapper</a></span></li><li><span><a href=\"#Test-installation-is-correct\" data-toc-modified-id=\"Test-installation-is-correct-1.1.3\"><span class=\"toc-item-num\">1.1.3&nbsp;&nbsp;</span>Test installation is correct</a></span></li></ul></li><li><span><a href=\"#Preparing-data\" data-toc-modified-id=\"Preparing-data-1.2\"><span class=\"toc-item-num\">1.2&nbsp;&nbsp;</span>Preparing data</a></span><ul class=\"toc-item\"><li><span><a href=\"#Download-reference-genome\" data-toc-modified-id=\"Download-reference-genome-1.2.1\"><span class=\"toc-item-num\">1.2.1&nbsp;&nbsp;</span>Download reference genome</a></span></li><li><span><a href=\"#Indexing-reference-genome\" data-toc-modified-id=\"Indexing-reference-genome-1.2.2\"><span class=\"toc-item-num\">1.2.2&nbsp;&nbsp;</span>Indexing reference genome</a></span></li></ul></li><li><span><a href=\"#Mapping\" data-toc-modified-id=\"Mapping-1.3\"><span class=\"toc-item-num\">1.3&nbsp;&nbsp;</span>Mapping</a></span></li><li><span><a href=\"#Parsing\" data-toc-modified-id=\"Parsing-1.4\"><span class=\"toc-item-num\">1.4&nbsp;&nbsp;</span>Parsing</a></span></li><li><span><a href=\"#Filtering\" data-toc-modified-id=\"Filtering-1.5\"><span class=\"toc-item-num\">1.5&nbsp;&nbsp;</span>Filtering</a></span></li><li><span><a href=\"#Normalize-matrix\" data-toc-modified-id=\"Normalize-matrix-1.6\"><span class=\"toc-item-num\">1.6&nbsp;&nbsp;</span>Normalize matrix</a></span></li><li><span><a href=\"#View-matrices:\" data-toc-modified-id=\"View-matrices:-1.7\"><span class=\"toc-item-num\">1.7&nbsp;&nbsp;</span>View matrices:</a></span><ul class=\"toc-item\"><li><span><a href=\"#Whole-genome-contact-map\" data-toc-modified-id=\"Whole-genome-contact-map-1.7.1\"><span class=\"toc-item-num\">1.7.1&nbsp;&nbsp;</span>Whole genome contact map</a></span></li><li><span><a href=\"#Zoom-on-chromosome-NC_011465.1\" data-toc-modified-id=\"Zoom-on-chromosome-NC_011465.1-1.7.2\"><span class=\"toc-item-num\">1.7.2&nbsp;&nbsp;</span>Zoom on chromosome NC_011465.1</a></span></li></ul></li></ul></li></ul></div>"
   ]
  },
  {
   "cell_type": "markdown",
   "metadata": {},
   "source": [
    "**These Python Notebook contains the commands needed to reproduce the figures on the paper by Sandoval-Velasco *et al.,* (2020): *\"Hi-C chromosome conformation capture sequencing of avian genomes using\n",
    "the BGISEQ-500 platform\"*, currently under review.**"
   ]
  },
  {
   "cell_type": "markdown",
   "metadata": {},
   "source": [
    "## Running the TADbit pipeline for BGI HiC analysis"
   ]
  },
  {
   "cell_type": "markdown",
   "metadata": {},
   "source": [
    "### Installing and setting up"
   ]
  },
  {
   "cell_type": "markdown",
   "metadata": {},
   "source": [
    "#### TADbit"
   ]
  },
  {
   "cell_type": "markdown",
   "metadata": {},
   "source": [
    "TADbit is a complete Python library to deal with all steps to analyze, model and explore 3C-based data. With TADbit the user can map FASTsQ files to obtain raw interaction binned matrices (Hi-C like matrices), normalize and correct interaction matrices, identify and compare the Topologically Associating Domains (TADs), build 3D models from the interaction matrices, and finally, extract structural properties from the models. TADbit is complemented by TADkit for visualizing 3D models.\n",
    "\n",
    "https://github.com/3DGenomes/TADbit\n",
    "\n",
    "Hi-C experiments generate genomic interaction between loci located in the same or in different chromosomes. TADbit is built around the concept of a chromosome, and uses it as a central item to store and compare different Hi-C experiments. The library has been designed to be used by researchers with no expertise in computer science. All-in-one scripts provided in TADbit allow to run the full analysis using one single command line; advanced users may produce their own programs using TADbit as a complementary library.\n",
    "\n",
    "Make sure python2 >= 2.6 is installed in your system. Otherwise, get it from here:\n",
    "\n",
    "https://www.python.org/downloads/  \n",
    "\n",
    "For further advanced installation instruction, and integration with environments like `conda`, see here:\n",
    "\n",
    "https://3dgenomes.github.io/TADbit/install.html\n",
    "\n",
    "Quick install TADbit on https://3dgenomes.github.io/TADbit/install.html to install TADbit.\n",
    "\n",
    "TADbit has been tested under Ubuntu-linux, Centos 7 and MacOS (tested under OSX 10.9 with MacPorts www.macports.org).\n",
    "\n",
    "TADbit can be invoked through the shell/command line on its TADbit tools version (https://3dgenomes.github.io/TADbit/tools.html). To make things easier for those non-familiar with Python, we will run TADbit from the command line."
   ]
  },
  {
   "cell_type": "code",
   "execution_count": null,
   "metadata": {},
   "outputs": [],
   "source": [
    "# Download TADBit from GitHub:\n",
    "# On a Linux/Mac terminal, move to the folder where you wish to put TADbit folder and git clone TADbit:\n",
    "git clone https://github.com/3DGenomes/TADbit.git;\n",
    "\n",
    "# Otherwise, you can directly download the repository from there (\"Clone or Download\" button) in ZIP format\n",
    "\n",
    "# If you downloaded it, unzip the repository\n",
    "unzip TADbit-master.zip;\n",
    "\n",
    "# Cloning or downloading either way would have generated a folder named TADbit-master. Now do:\n",
    "# Move to the folder:\n",
    "cd TADBit-master;\n",
    "# Now install it, invoking python.\n",
    "python setup.py install\n",
    "# It will run for a few seconds/minutes and will get it setup."
   ]
  },
  {
   "cell_type": "markdown",
   "metadata": {},
   "source": [
    "#### GEM mapper"
   ]
  },
  {
   "cell_type": "markdown",
   "metadata": {},
   "source": [
    "For the mapping, TADbit needs that raw data is indexed. As a mapper, TADbit runs GEM (Marco-Sola et al., 2012)\n",
    "on the background. To install GEM, go to the download page: https://sourceforge.net/projects/gemlibrary/files/gem-library/Binary%20pre-release%202/ and download the i3 version (the other version is for older computers, and you usually won’t have to use it)."
   ]
  },
  {
   "cell_type": "code",
   "execution_count": null,
   "metadata": {},
   "outputs": [],
   "source": [
    "# Move to a folder where you want to keep GEM, and do:\n",
    "wget -nv -O GEM.tbz2 https://sourceforge.net/projects/gemlibrary/files/gem-library/Binary%20pre-release%203/GEM-binaries-Linux-x86_64-core_i3-20130406-045632.tbz2/download\n",
    "# Uncompress it:\n",
    "tar -xjvf GEM.tbz2"
   ]
  },
  {
   "cell_type": "markdown",
   "metadata": {},
   "source": [
    "And copy the needed binaries to somewhere in your PATH, like:"
   ]
  },
  {
   "cell_type": "code",
   "execution_count": null,
   "metadata": {},
   "outputs": [],
   "source": [
    "# remove the licence txt, so it does not get in your path\n",
    "rm -f GEM-binaries-Linux-x86_64-core_i3-20130406-045632/bin/LICENCE; \n",
    "# copying...\n",
    "cp GEM-binaries-Linux-x86_64-core_i3-20130406-045632/bin/* ${YOUR_EXECUTION_PATH}"
   ]
  },
  {
   "cell_type": "markdown",
   "metadata": {},
   "source": [
    "Cleanup:"
   ]
  },
  {
   "cell_type": "code",
   "execution_count": null,
   "metadata": {},
   "outputs": [],
   "source": [
    "rm -rf GEM-binaries-Linux-x86_64-core_i3-20121106-022124\n",
    "rm -f GEM.tbz2"
   ]
  },
  {
   "cell_type": "markdown",
   "metadata": {},
   "source": [
    "TADbit supports also bowtie mapper in case you want to use it.\n",
    "\n",
    "http://bowtie-bio.sourceforge.net/bowtie2/index.shtml"
   ]
  },
  {
   "cell_type": "markdown",
   "metadata": {},
   "source": [
    "#### Test installation is correct"
   ]
  },
  {
   "cell_type": "code",
   "execution_count": null,
   "metadata": {},
   "outputs": [],
   "source": [
    "cd TADbit-master/test;\n",
    "python test_all.py"
   ]
  },
  {
   "cell_type": "markdown",
   "metadata": {},
   "source": [
    "### Preparing data"
   ]
  },
  {
   "cell_type": "markdown",
   "metadata": {},
   "source": [
    "#### Download reference genome\n",
    "The representative genome for zebra finch (*Taeniopygia_guttata-3.2.4*), available for download at NCBI in FASTA format, but not necessarily at the chromosome level. Scaffolds are also fine for TADbit."
   ]
  },
  {
   "cell_type": "code",
   "execution_count": null,
   "metadata": {},
   "outputs": [],
   "source": [
    "bash%%\n",
    "# Create a folder where to store your working reference genomes\n",
    "mkdir reference_genomes;\n",
    "# enter in it\n",
    "cd reference_genomes\n",
    "# ...and run the following command to download our genome of choice:\n",
    "wget ftp://ftp.ncbi.nlm.nih.gov/genomes/all/GCF/000/151/805/GCF_000151805.1_Taeniopygia_guttata-3.2.4/GCF_000151805.1_Taeniopygia_guttata-3.2.4_genomic.fna.gz;\n",
    "# Genomes come from NCBI in FASTA format, compressed. Then, to uncompress it, do:\n",
    "gunzip GCF_000151805.1_Taeniopygia_guttata-3.2.4_genomic.fna.gz;\n",
    "# this will generate the FASTA file you need."
   ]
  },
  {
   "cell_type": "markdown",
   "metadata": {},
   "source": [
    "#### Indexing reference genome"
   ]
  },
  {
   "cell_type": "markdown",
   "metadata": {},
   "source": [
    "***IMPORTANT***: Substitute the folder path with your own."
   ]
  },
  {
   "cell_type": "code",
   "execution_count": null,
   "metadata": {},
   "outputs": [],
   "source": [
    "# Variables to use:\n",
    "# input file (fasta nucleotide file)\n",
    "fasta_input=\"your_path/reference_genomes/GCF_000151805.1_Taeniopygia_guttata-3.2.4_genomic.fna\"\n",
    "# output file\n",
    "gem_output=\"your_path/reference_genomes/GCF_000151805.1_Taeniopygia_guttata-3.2.4_genomic\" \n",
    "# gem will add a suffix .gem"
   ]
  },
  {
   "cell_type": "code",
   "execution_count": null,
   "metadata": {},
   "outputs": [],
   "source": [
    "# Index your genome\n",
    "# Full options, like adding more processors can be seen by typing:\n",
    "gem-indexer --help\n",
    "# Run gem indexing:\n",
    "gem-indexer -i ${fasta_input} -o ${gem_output}"
   ]
  },
  {
   "cell_type": "markdown",
   "metadata": {},
   "source": [
    "### Mapping"
   ]
  },
  {
   "cell_type": "markdown",
   "metadata": {},
   "source": [
    "As for the present paper, we are processing 3 samples (below), thus we'll be running the pipe 3 times. Substitute the variables below for your own codes and samples. Of course, the code can be restructured to run in parallel, clusters, etc..."
   ]
  },
  {
   "cell_type": "markdown",
   "metadata": {},
   "source": [
    "**GETTING HELP:**\n",
    "\n",
    "From the command line, you can get detailed help for each of the `tadbit` commands by typing:\n",
    "\n",
    "$> `tadbit` `[-h]` `map,parse,filter,describe,clean,normalize,bin,merge,segment` "
   ]
  },
  {
   "cell_type": "code",
   "execution_count": null,
   "metadata": {},
   "outputs": [],
   "source": [
    "# define \"alias\" for each pair of the the fastq files (for each sample).\n",
    "# we are processing 3 samples:\n",
    "samp=\"Oz13_i10\"\n",
    "\n",
    "samp=\"Mz13_i18\"\n",
    "\n",
    "samp=\"Mz17_i19\""
   ]
  },
  {
   "cell_type": "code",
   "execution_count": null,
   "metadata": {},
   "outputs": [],
   "source": [
    "# Variables to use:\n",
    "# path to both fastqs\n",
    "fastq1=\"your_path/fastq/\"${samp}\"_1_trim.fastq\"\n",
    "fastq2=\"your_path/fastq/\"${samp}\"_2_trim.fastq\"\n",
    "\n",
    "# Set a folder where TADbit will put all analysis files. Set the same one of the fastq names.\n",
    "# TADBit will create this folder.\n",
    "wd=\"your_path/\"${samp}\n",
    "\n",
    "## path to the gem-generated index (ending in *.gem)\n",
    "index='your_path/reference_genomes/GCF_000151805.1_Taeniopygia_guttata-3.2.4_genomic.gem'"
   ]
  },
  {
   "cell_type": "markdown",
   "metadata": {},
   "source": [
    "Regarding the restriction enzyme, TADbit already contains the restriction cut-site info needed to process your sample with the most common enzymes."
   ]
  },
  {
   "cell_type": "code",
   "execution_count": null,
   "metadata": {},
   "outputs": [],
   "source": [
    "# Mapping read 1\n",
    "tadbit map --fastq ${fastq1} --workdir ${wd} --index ${index} --read 1  --renz \"MboI\"\n",
    "# Mapping read 2\n",
    "tadbit map --fastq ${fastq2} --workdir ${wd} --index ${index} --read 2  --renz \"MboI\""
   ]
  },
  {
   "cell_type": "markdown",
   "metadata": {},
   "source": [
    "**GETTING INFO ON THE WORKFLOW AND COMMANDS USED**\n",
    "\n",
    "TADbit contains an option called `describe` which records every step that has been done at the working directory. It comes handy to get information about the parameters with which you run your commands, or the commands that you already within the current working directory.\n",
    "\n",
    "Invoke it through:\n",
    "\n",
    "$> `tadbit describe ${wd}`\n"
   ]
  },
  {
   "cell_type": "markdown",
   "metadata": {},
   "source": [
    "### Parsing"
   ]
  },
  {
   "cell_type": "markdown",
   "metadata": {},
   "source": [
    "Once the reads have been mapped we can proceed to find the intersection of both reads (those read pairs that have mappings for R1 & R2), so we get the interacting pairs."
   ]
  },
  {
   "cell_type": "code",
   "execution_count": 1,
   "metadata": {},
   "outputs": [],
   "source": [
    "# Variables to use:\n",
    "my_chr_prefix=\"NC_*\" # string prefix for the chromosomes we wish to use in the reference genome. \n",
    "# In this bird, chromosomes do not have the standard nomenclature of \"chr1, chr2...\", so we need to change them."
   ]
  },
  {
   "cell_type": "code",
   "execution_count": null,
   "metadata": {},
   "outputs": [],
   "source": [
    "tadbit parse --workdir ${wd} --genome ${fasta_input} --filter_chrom ${my_chr_prefix}"
   ]
  },
  {
   "cell_type": "markdown",
   "metadata": {},
   "source": [
    "**NOTE:**"
   ]
  },
  {
   "cell_type": "markdown",
   "metadata": {},
   "source": [
    "TADbit’s option `--filter_chrom` will only take into consideration those chromosomes starting with the string indicated in `my_chr_prefix`. Do not leave it by default unless your chromosomes satisfy the following Python regular expression: \n",
    "\n",
    "`^(chr)?[A-Za-z]?[0-9]{0,3}[XVI]{0,3}(?:ito)?[A-Z-a-z]?(_dna)?$`\n"
   ]
  },
  {
   "cell_type": "markdown",
   "metadata": {},
   "source": [
    "### Filtering"
   ]
  },
  {
   "cell_type": "markdown",
   "metadata": {},
   "source": [
    "Filtering step inputs the read intersection generated in the previous step and applies the filters described in the TADbit paper (Serra *et al.,* 2017). Note that, basically, this filteing step classifies each read pair into one or more of 10 categories.\n",
    "\n",
    "After this step, we will obtain a list with the valid read pairs (the ones resulting after applying the filters we select) optimized to plot a matrix and visualize your data. The filters we select to apply may vary depending on the type of sample, coverage... For example, we may want to consider the reads classified as `dangling-end` as valid pairs, but we should ideally exclude those reads classified as `error`, `self-circle`, `duplicated` or `random break`\n",
    "\n",
    "**We selected to exclude the read categories `1,3,7,8,9,10`.**\n",
    "\n",
    "See more info on filter types here: https://3dgenomes.github.io/TADbit/tutorial/tutorial_6-Filtering_mapped_reads.html"
   ]
  },
  {
   "cell_type": "markdown",
   "metadata": {},
   "source": [
    "**Types of filters that can be applied:**"
   ]
  },
  {
   "cell_type": "markdown",
   "metadata": {},
   "source": [
    "| ID | Filter             |\n",
    "|----|--------------------|\n",
    "| 1  | self circle        |\n",
    "| 2  | dangling-end       |\n",
    "| 3  | error              |\n",
    "| 4  | extra dangling end |\n",
    "| 5  | too close from RES |\n",
    "| 6  | too short          |\n",
    "| 7  | too large          |\n",
    "| 8  | overrepresented    |\n",
    "| 9  | duplicated         |\n",
    "| 10 | random break       |"
   ]
  },
  {
   "cell_type": "code",
   "execution_count": null,
   "metadata": {},
   "outputs": [],
   "source": [
    "tadbit filter --workdir ${wd} --apply 1 3 7 8 9 10 "
   ]
  },
  {
   "cell_type": "markdown",
   "metadata": {},
   "source": [
    "### Normalize matrix"
   ]
  },
  {
   "cell_type": "markdown",
   "metadata": {},
   "source": [
    "We will Vanilla-normalize *(Lieberman-Aiden et al., 2009)* the matrix for the sample Oz13, for being the one with the larger number of reads*"
   ]
  },
  {
   "cell_type": "code",
   "execution_count": null,
   "metadata": {},
   "outputs": [],
   "source": [
    "tadbit normalize -w ${wd} -r 500000 --normalization Vanilla --min_count 5 -F 1 3 7 8 9 10"
   ]
  },
  {
   "cell_type": "markdown",
   "metadata": {},
   "source": [
    "### View matrices:"
   ]
  },
  {
   "cell_type": "markdown",
   "metadata": {},
   "source": [
    "TADbit allows to generate images in several format, as well as make queries to data, interactive plotting and plot in several formats, amongst many other functionalities.\n",
    "See:\n",
    "\n",
    "$> `tadbit bin --help`"
   ]
  },
  {
   "cell_type": "code",
   "execution_count": null,
   "metadata": {},
   "outputs": [],
   "source": [
    "# Variables to use:\n",
    "resolution=500000 # resolution at which view matrices\n",
    "form=\"pdf\" # string denoting in which format we want to view the matrices."
   ]
  },
  {
   "cell_type": "markdown",
   "metadata": {},
   "source": [
    "#### Whole genome contact map"
   ]
  },
  {
   "cell_type": "code",
   "execution_count": null,
   "metadata": {},
   "outputs": [],
   "source": [
    "tadbit bin --workdir ${wd} -r ${resolution} --only_plot --norm norm  --plot --cmap Reds --format pdf -F 1 3 7 8 9 10"
   ]
  },
  {
   "cell_type": "markdown",
   "metadata": {},
   "source": [
    "#### Zoom on chromosome NC_011465.1"
   ]
  },
  {
   "cell_type": "code",
   "execution_count": null,
   "metadata": {},
   "outputs": [],
   "source": [
    "# Use option -c to zoom into a particular chromosome. \n",
    "tadbit bin --workdir ${wd} -r ${resolution} --only_plot --norm norm  --plot --cmap Reds --format pdf -c NC_011465.1 -F 1 3 7 8 9 10"
   ]
  },
  {
   "cell_type": "markdown",
   "metadata": {},
   "source": [
    "And that's all... :)\n",
    "\n",
    "For any issue open an issue on GitHub or email directly `juan.rodriguez [at] cnag [dot] crg [dot] eu`\n",
    "\n",
    "Thanks!"
   ]
  },
  {
   "cell_type": "markdown",
   "metadata": {},
   "source": [
    "**END**"
   ]
  },
  {
   "cell_type": "markdown",
   "metadata": {},
   "source": [
    "---"
   ]
  }
 ],
 "metadata": {
  "kernelspec": {
   "display_name": "R",
   "language": "R",
   "name": "ir"
  },
  "language_info": {
   "codemirror_mode": "r",
   "file_extension": ".r",
   "mimetype": "text/x-r-source",
   "name": "R",
   "pygments_lexer": "r",
   "version": "3.6.3"
  },
  "toc": {
   "base_numbering": 1,
   "nav_menu": {},
   "number_sections": true,
   "sideBar": true,
   "skip_h1_title": false,
   "title_cell": "Table of Contents",
   "title_sidebar": "Contents",
   "toc_cell": true,
   "toc_position": {},
   "toc_section_display": true,
   "toc_window_display": false
  }
 },
 "nbformat": 4,
 "nbformat_minor": 2
}
